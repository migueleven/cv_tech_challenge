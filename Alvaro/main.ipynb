{
 "cells": [
  {
   "cell_type": "code",
   "execution_count": 2,
   "id": "27c3bdb8-0552-4b7a-9be6-fd1cb0c42852",
   "metadata": {},
   "outputs": [],
   "source": [
    "import os\n",
    "from rembg import remove\n",
    "from PIL import Image"
   ]
  },
  {
   "cell_type": "code",
   "execution_count": 3,
   "id": "d7d5d2e8-0272-4f83-bdce-1276e4bffbcf",
   "metadata": {},
   "outputs": [
    {
     "name": "stdout",
     "output_type": "stream",
     "text": [
      "Imagen procesada y guardada en: public_hand_dataset/public_hand_dataset/100328385179725049535622994313026736131\\processed\\hand_output.png\n",
      "Imagen procesada y guardada en: public_hand_dataset/public_hand_dataset/101246170554525927110592012192635617282\\processed\\hand_output.png\n",
      "Imagen procesada y guardada en: public_hand_dataset/public_hand_dataset/102586421877817102033289037136558555138\\processed\\hand_output.png\n"
     ]
    },
    {
     "ename": "KeyboardInterrupt",
     "evalue": "",
     "output_type": "error",
     "traceback": [
      "\u001b[1;31m---------------------------------------------------------------------------\u001b[0m",
      "\u001b[1;31mKeyboardInterrupt\u001b[0m                         Traceback (most recent call last)",
      "Cell \u001b[1;32mIn[3], line 40\u001b[0m\n\u001b[0;32m     37\u001b[0m     os\u001b[38;5;241m.\u001b[39mmakedirs(ruta_media)\n\u001b[0;32m     39\u001b[0m \u001b[38;5;66;03m# Procesar la imagen\u001b[39;00m\n\u001b[1;32m---> 40\u001b[0m process_image(ruta_hand, ruta_output)\n",
      "Cell \u001b[1;32mIn[3], line 14\u001b[0m, in \u001b[0;36mprocess_image\u001b[1;34m(input_path, output_path)\u001b[0m\n\u001b[0;32m     11\u001b[0m inp \u001b[38;5;241m=\u001b[39m Image\u001b[38;5;241m.\u001b[39mopen(input_path)\n\u001b[0;32m     13\u001b[0m \u001b[38;5;66;03m# Elimina el fondo\u001b[39;00m\n\u001b[1;32m---> 14\u001b[0m output \u001b[38;5;241m=\u001b[39m remove(inp)\n\u001b[0;32m     16\u001b[0m \u001b[38;5;66;03m# Guarda la imagen procesada en la ruta de salida\u001b[39;00m\n\u001b[0;32m     17\u001b[0m output\u001b[38;5;241m.\u001b[39msave(output_path)\n",
      "File \u001b[1;32m~\\anaconda3\\envs\\cv_tech_challenge\\Lib\\site-packages\\rembg\\bg.py:264\u001b[0m, in \u001b[0;36mremove\u001b[1;34m(data, alpha_matting, alpha_matting_foreground_threshold, alpha_matting_background_threshold, alpha_matting_erode_size, session, only_mask, post_process_mask, bgcolor, force_return_bytes, *args, **kwargs)\u001b[0m\n\u001b[0;32m    261\u001b[0m img \u001b[38;5;241m=\u001b[39m fix_image_orientation(img)\n\u001b[0;32m    263\u001b[0m \u001b[38;5;28;01mif\u001b[39;00m session \u001b[38;5;129;01mis\u001b[39;00m \u001b[38;5;28;01mNone\u001b[39;00m:\n\u001b[1;32m--> 264\u001b[0m     session \u001b[38;5;241m=\u001b[39m new_session(\u001b[38;5;124m\"\u001b[39m\u001b[38;5;124mu2net\u001b[39m\u001b[38;5;124m\"\u001b[39m, \u001b[38;5;241m*\u001b[39margs, \u001b[38;5;241m*\u001b[39m\u001b[38;5;241m*\u001b[39mkwargs)\n\u001b[0;32m    266\u001b[0m masks \u001b[38;5;241m=\u001b[39m session\u001b[38;5;241m.\u001b[39mpredict(img, \u001b[38;5;241m*\u001b[39margs, \u001b[38;5;241m*\u001b[39m\u001b[38;5;241m*\u001b[39mkwargs)\n\u001b[0;32m    267\u001b[0m cutouts \u001b[38;5;241m=\u001b[39m []\n",
      "File \u001b[1;32m~\\anaconda3\\envs\\cv_tech_challenge\\Lib\\site-packages\\rembg\\session_factory.py:44\u001b[0m, in \u001b[0;36mnew_session\u001b[1;34m(model_name, providers, *args, **kwargs)\u001b[0m\n\u001b[0;32m     41\u001b[0m     sess_opts\u001b[38;5;241m.\u001b[39minter_op_num_threads \u001b[38;5;241m=\u001b[39m \u001b[38;5;28mint\u001b[39m(os\u001b[38;5;241m.\u001b[39menviron[\u001b[38;5;124m\"\u001b[39m\u001b[38;5;124mOMP_NUM_THREADS\u001b[39m\u001b[38;5;124m\"\u001b[39m])\n\u001b[0;32m     42\u001b[0m     sess_opts\u001b[38;5;241m.\u001b[39mintra_op_num_threads \u001b[38;5;241m=\u001b[39m \u001b[38;5;28mint\u001b[39m(os\u001b[38;5;241m.\u001b[39menviron[\u001b[38;5;124m\"\u001b[39m\u001b[38;5;124mOMP_NUM_THREADS\u001b[39m\u001b[38;5;124m\"\u001b[39m])\n\u001b[1;32m---> 44\u001b[0m \u001b[38;5;28;01mreturn\u001b[39;00m session_class(model_name, sess_opts, providers, \u001b[38;5;241m*\u001b[39margs, \u001b[38;5;241m*\u001b[39m\u001b[38;5;241m*\u001b[39mkwargs)\n",
      "File \u001b[1;32m~\\anaconda3\\envs\\cv_tech_challenge\\Lib\\site-packages\\rembg\\sessions\\base.py:34\u001b[0m, in \u001b[0;36mBaseSession.__init__\u001b[1;34m(self, model_name, sess_opts, providers, *args, **kwargs)\u001b[0m\n\u001b[0;32m     31\u001b[0m \u001b[38;5;28;01melse\u001b[39;00m:\n\u001b[0;32m     32\u001b[0m     \u001b[38;5;28mself\u001b[39m\u001b[38;5;241m.\u001b[39mproviders\u001b[38;5;241m.\u001b[39mextend(_providers)\n\u001b[1;32m---> 34\u001b[0m \u001b[38;5;28mself\u001b[39m\u001b[38;5;241m.\u001b[39minner_session \u001b[38;5;241m=\u001b[39m ort\u001b[38;5;241m.\u001b[39mInferenceSession(\n\u001b[0;32m     35\u001b[0m     \u001b[38;5;28mstr\u001b[39m(\u001b[38;5;28mself\u001b[39m\u001b[38;5;241m.\u001b[39m\u001b[38;5;18m__class__\u001b[39m\u001b[38;5;241m.\u001b[39mdownload_models(\u001b[38;5;241m*\u001b[39margs, \u001b[38;5;241m*\u001b[39m\u001b[38;5;241m*\u001b[39mkwargs)),\n\u001b[0;32m     36\u001b[0m     providers\u001b[38;5;241m=\u001b[39m\u001b[38;5;28mself\u001b[39m\u001b[38;5;241m.\u001b[39mproviders,\n\u001b[0;32m     37\u001b[0m     sess_options\u001b[38;5;241m=\u001b[39msess_opts,\n\u001b[0;32m     38\u001b[0m )\n",
      "File \u001b[1;32m~\\anaconda3\\envs\\cv_tech_challenge\\Lib\\site-packages\\onnxruntime\\capi\\onnxruntime_inference_collection.py:465\u001b[0m, in \u001b[0;36mInferenceSession.__init__\u001b[1;34m(self, path_or_bytes, sess_options, providers, provider_options, **kwargs)\u001b[0m\n\u001b[0;32m    462\u001b[0m disabled_optimizers \u001b[38;5;241m=\u001b[39m kwargs\u001b[38;5;241m.\u001b[39mget(\u001b[38;5;124m\"\u001b[39m\u001b[38;5;124mdisabled_optimizers\u001b[39m\u001b[38;5;124m\"\u001b[39m)\n\u001b[0;32m    464\u001b[0m \u001b[38;5;28;01mtry\u001b[39;00m:\n\u001b[1;32m--> 465\u001b[0m     \u001b[38;5;28mself\u001b[39m\u001b[38;5;241m.\u001b[39m_create_inference_session(providers, provider_options, disabled_optimizers)\n\u001b[0;32m    466\u001b[0m \u001b[38;5;28;01mexcept\u001b[39;00m (\u001b[38;5;167;01mValueError\u001b[39;00m, \u001b[38;5;167;01mRuntimeError\u001b[39;00m) \u001b[38;5;28;01mas\u001b[39;00m e:\n\u001b[0;32m    467\u001b[0m     \u001b[38;5;28;01mif\u001b[39;00m \u001b[38;5;28mself\u001b[39m\u001b[38;5;241m.\u001b[39m_enable_fallback:\n",
      "File \u001b[1;32m~\\anaconda3\\envs\\cv_tech_challenge\\Lib\\site-packages\\onnxruntime\\capi\\onnxruntime_inference_collection.py:531\u001b[0m, in \u001b[0;36mInferenceSession._create_inference_session\u001b[1;34m(self, providers, provider_options, disabled_optimizers)\u001b[0m\n\u001b[0;32m    528\u001b[0m     sess \u001b[38;5;241m=\u001b[39m C\u001b[38;5;241m.\u001b[39mInferenceSession(session_options, \u001b[38;5;28mself\u001b[39m\u001b[38;5;241m.\u001b[39m_model_bytes, \u001b[38;5;28;01mFalse\u001b[39;00m, \u001b[38;5;28mself\u001b[39m\u001b[38;5;241m.\u001b[39m_read_config_from_model)\n\u001b[0;32m    530\u001b[0m \u001b[38;5;28;01mif\u001b[39;00m disabled_optimizers \u001b[38;5;129;01mis\u001b[39;00m \u001b[38;5;28;01mNone\u001b[39;00m:\n\u001b[1;32m--> 531\u001b[0m     disabled_optimizers \u001b[38;5;241m=\u001b[39m \u001b[38;5;28mset\u001b[39m()\n\u001b[0;32m    532\u001b[0m \u001b[38;5;28;01melif\u001b[39;00m \u001b[38;5;129;01mnot\u001b[39;00m \u001b[38;5;28misinstance\u001b[39m(disabled_optimizers, \u001b[38;5;28mset\u001b[39m):\n\u001b[0;32m    533\u001b[0m     \u001b[38;5;66;03m# convert to set. assumes iterable\u001b[39;00m\n\u001b[0;32m    534\u001b[0m     disabled_optimizers \u001b[38;5;241m=\u001b[39m \u001b[38;5;28mset\u001b[39m(disabled_optimizers)\n",
      "\u001b[1;31mKeyboardInterrupt\u001b[0m: "
     ]
    }
   ],
   "source": [
    "def process_image(input_path, output_path):\n",
    "    \"\"\"\n",
    "    Elimina el fondo de una imagen y guarda el resultado en la ruta especificada.\n",
    "    \n",
    "    Args:\n",
    "        input_path (str): Ruta de la imagen de entrada.\n",
    "        output_path (str): Ruta donde se guardará la imagen procesada.\n",
    "    \"\"\"\n",
    "    try:\n",
    "        # Abre la imagen de entrada\n",
    "        inp = Image.open(input_path)\n",
    "        \n",
    "        # Elimina el fondo\n",
    "        output = remove(inp)\n",
    "        \n",
    "        # Guarda la imagen procesada en la ruta de salida\n",
    "        output.save(output_path)\n",
    "        print(f\"Imagen procesada y guardada en: {output_path}\")\n",
    "    except FileNotFoundError:\n",
    "        print(f\"No se encontró el archivo: {input_path}\")\n",
    "    except Exception as e:\n",
    "        print(f\"Ocurrió un error: {e}\")\n",
    "\n",
    "ruta_base = r'public_hand_dataset/public_hand_dataset/'\n",
    "\n",
    "# Recorrer todas las subcarpetas y archivos\n",
    "for carpeta_actual, subcarpetas, archivos in os.walk(ruta_base):\n",
    "    if \"original\" in subcarpetas:  # Si existe la subcarpeta \"original\"\n",
    "        ruta_original = os.path.join(carpeta_actual, \"original\")\n",
    "        ruta_hand = os.path.join(ruta_original, \"hand.jpeg\")\n",
    "        ruta_media = os.path.join(carpeta_actual, \"processed\") \n",
    "        ruta_output = os.path.join(ruta_media, \"hand_output.png\")\n",
    "        \n",
    "        if os.path.exists(ruta_hand):  # Verifica si el archivo \"hand.jpeg\" existe\n",
    "            # Crear la carpeta \"processed\" si no existe\n",
    "            if not os.path.exists(ruta_media):\n",
    "                os.makedirs(ruta_media)\n",
    "            \n",
    "            # Procesar la imagen\n",
    "            process_image(ruta_hand, ruta_output)\n"
   ]
  },
  {
   "cell_type": "code",
   "execution_count": null,
   "id": "90a39807-056f-4520-8e3e-aa390626d7d2",
   "metadata": {},
   "outputs": [],
   "source": []
  }
 ],
 "metadata": {
  "kernelspec": {
   "display_name": "Python 3 (ipykernel)",
   "language": "python",
   "name": "python3"
  },
  "language_info": {
   "codemirror_mode": {
    "name": "ipython",
    "version": 3
   },
   "file_extension": ".py",
   "mimetype": "text/x-python",
   "name": "python",
   "nbconvert_exporter": "python",
   "pygments_lexer": "ipython3",
   "version": "3.12.8"
  }
 },
 "nbformat": 4,
 "nbformat_minor": 5
}
