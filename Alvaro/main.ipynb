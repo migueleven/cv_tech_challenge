{
 "cells": [
  {
   "cell_type": "code",
   "execution_count": 2,
   "id": "27c3bdb8-0552-4b7a-9be6-fd1cb0c42852",
   "metadata": {},
   "outputs": [],
   "source": [
    "import os\n",
    "from rembg import remove\n",
    "from PIL import Image"
   ]
  },
  {
   "cell_type": "code",
   "execution_count": 5,
   "id": "d7d5d2e8-0272-4f83-bdce-1276e4bffbcf",
   "metadata": {
    "scrolled": true
   },
   "outputs": [
    {
     "name": "stdout",
     "output_type": "stream",
     "text": [
      "Image processed and saved in: ../data/public_hand_dataset/100328385179725049535622994313026736131\\processed\\hand_output.png\n"
     ]
    },
    {
     "ename": "KeyboardInterrupt",
     "evalue": "",
     "output_type": "error",
     "traceback": [
      "\u001b[1;31m---------------------------------------------------------------------------\u001b[0m",
      "\u001b[1;31mKeyboardInterrupt\u001b[0m                         Traceback (most recent call last)",
      "Cell \u001b[1;32mIn[5], line 33\u001b[0m\n\u001b[0;32m     30\u001b[0m     os\u001b[38;5;241m.\u001b[39mmakedirs(path_middle)\n\u001b[0;32m     32\u001b[0m \u001b[38;5;66;03m# Process the image\u001b[39;00m\n\u001b[1;32m---> 33\u001b[0m process_image(path_hand, path_output)\n",
      "Cell \u001b[1;32mIn[5], line 7\u001b[0m, in \u001b[0;36mprocess_image\u001b[1;34m(input_path, output_path)\u001b[0m\n\u001b[0;32m      4\u001b[0m inp \u001b[38;5;241m=\u001b[39m Image\u001b[38;5;241m.\u001b[39mopen(input_path)\n\u001b[0;32m      6\u001b[0m \u001b[38;5;66;03m# Remove background\u001b[39;00m\n\u001b[1;32m----> 7\u001b[0m output \u001b[38;5;241m=\u001b[39m remove(inp)\n\u001b[0;32m      9\u001b[0m \u001b[38;5;66;03m# Save the image in the folder\u001b[39;00m\n\u001b[0;32m     10\u001b[0m output\u001b[38;5;241m.\u001b[39msave(output_path)\n",
      "File \u001b[1;32m~\\anaconda3\\envs\\cv_tech_challenge\\Lib\\site-packages\\rembg\\bg.py:266\u001b[0m, in \u001b[0;36mremove\u001b[1;34m(data, alpha_matting, alpha_matting_foreground_threshold, alpha_matting_background_threshold, alpha_matting_erode_size, session, only_mask, post_process_mask, bgcolor, force_return_bytes, *args, **kwargs)\u001b[0m\n\u001b[0;32m    263\u001b[0m \u001b[38;5;28;01mif\u001b[39;00m session \u001b[38;5;129;01mis\u001b[39;00m \u001b[38;5;28;01mNone\u001b[39;00m:\n\u001b[0;32m    264\u001b[0m     session \u001b[38;5;241m=\u001b[39m new_session(\u001b[38;5;124m\"\u001b[39m\u001b[38;5;124mu2net\u001b[39m\u001b[38;5;124m\"\u001b[39m, \u001b[38;5;241m*\u001b[39margs, \u001b[38;5;241m*\u001b[39m\u001b[38;5;241m*\u001b[39mkwargs)\n\u001b[1;32m--> 266\u001b[0m masks \u001b[38;5;241m=\u001b[39m session\u001b[38;5;241m.\u001b[39mpredict(img, \u001b[38;5;241m*\u001b[39margs, \u001b[38;5;241m*\u001b[39m\u001b[38;5;241m*\u001b[39mkwargs)\n\u001b[0;32m    267\u001b[0m cutouts \u001b[38;5;241m=\u001b[39m []\n\u001b[0;32m    269\u001b[0m \u001b[38;5;28;01mfor\u001b[39;00m mask \u001b[38;5;129;01min\u001b[39;00m masks:\n",
      "File \u001b[1;32m~\\anaconda3\\envs\\cv_tech_challenge\\Lib\\site-packages\\rembg\\sessions\\u2net.py:29\u001b[0m, in \u001b[0;36mU2netSession.predict\u001b[1;34m(self, img, *args, **kwargs)\u001b[0m\n\u001b[0;32m     17\u001b[0m \u001b[38;5;28;01mdef\u001b[39;00m \u001b[38;5;21mpredict\u001b[39m(\u001b[38;5;28mself\u001b[39m, img: PILImage, \u001b[38;5;241m*\u001b[39margs, \u001b[38;5;241m*\u001b[39m\u001b[38;5;241m*\u001b[39mkwargs) \u001b[38;5;241m-\u001b[39m\u001b[38;5;241m>\u001b[39m List[PILImage]:\n\u001b[0;32m     18\u001b[0m \u001b[38;5;250m    \u001b[39m\u001b[38;5;124;03m\"\"\"\u001b[39;00m\n\u001b[0;32m     19\u001b[0m \u001b[38;5;124;03m    Predicts the output masks for the input image using the inner session.\u001b[39;00m\n\u001b[0;32m     20\u001b[0m \n\u001b[1;32m   (...)\u001b[0m\n\u001b[0;32m     27\u001b[0m \u001b[38;5;124;03m        List[PILImage]: The list of output masks.\u001b[39;00m\n\u001b[0;32m     28\u001b[0m \u001b[38;5;124;03m    \"\"\"\u001b[39;00m\n\u001b[1;32m---> 29\u001b[0m     ort_outs \u001b[38;5;241m=\u001b[39m \u001b[38;5;28mself\u001b[39m\u001b[38;5;241m.\u001b[39minner_session\u001b[38;5;241m.\u001b[39mrun(\n\u001b[0;32m     30\u001b[0m         \u001b[38;5;28;01mNone\u001b[39;00m,\n\u001b[0;32m     31\u001b[0m         \u001b[38;5;28mself\u001b[39m\u001b[38;5;241m.\u001b[39mnormalize(\n\u001b[0;32m     32\u001b[0m             img, (\u001b[38;5;241m0.485\u001b[39m, \u001b[38;5;241m0.456\u001b[39m, \u001b[38;5;241m0.406\u001b[39m), (\u001b[38;5;241m0.229\u001b[39m, \u001b[38;5;241m0.224\u001b[39m, \u001b[38;5;241m0.225\u001b[39m), (\u001b[38;5;241m320\u001b[39m, \u001b[38;5;241m320\u001b[39m)\n\u001b[0;32m     33\u001b[0m         ),\n\u001b[0;32m     34\u001b[0m     )\n\u001b[0;32m     36\u001b[0m     pred \u001b[38;5;241m=\u001b[39m ort_outs[\u001b[38;5;241m0\u001b[39m][:, \u001b[38;5;241m0\u001b[39m, :, :]\n\u001b[0;32m     38\u001b[0m     ma \u001b[38;5;241m=\u001b[39m np\u001b[38;5;241m.\u001b[39mmax(pred)\n",
      "File \u001b[1;32m~\\anaconda3\\envs\\cv_tech_challenge\\Lib\\site-packages\\onnxruntime\\capi\\onnxruntime_inference_collection.py:266\u001b[0m, in \u001b[0;36mSession.run\u001b[1;34m(self, output_names, input_feed, run_options)\u001b[0m\n\u001b[0;32m    264\u001b[0m     output_names \u001b[38;5;241m=\u001b[39m [output\u001b[38;5;241m.\u001b[39mname \u001b[38;5;28;01mfor\u001b[39;00m output \u001b[38;5;129;01min\u001b[39;00m \u001b[38;5;28mself\u001b[39m\u001b[38;5;241m.\u001b[39m_outputs_meta]\n\u001b[0;32m    265\u001b[0m \u001b[38;5;28;01mtry\u001b[39;00m:\n\u001b[1;32m--> 266\u001b[0m     \u001b[38;5;28;01mreturn\u001b[39;00m \u001b[38;5;28mself\u001b[39m\u001b[38;5;241m.\u001b[39m_sess\u001b[38;5;241m.\u001b[39mrun(output_names, input_feed, run_options)\n\u001b[0;32m    267\u001b[0m \u001b[38;5;28;01mexcept\u001b[39;00m C\u001b[38;5;241m.\u001b[39mEPFail \u001b[38;5;28;01mas\u001b[39;00m err:\n\u001b[0;32m    268\u001b[0m     \u001b[38;5;28;01mif\u001b[39;00m \u001b[38;5;28mself\u001b[39m\u001b[38;5;241m.\u001b[39m_enable_fallback:\n",
      "\u001b[1;31mKeyboardInterrupt\u001b[0m: "
     ]
    }
   ],
   "source": [
    "def process_image(input_path, output_path):\n",
    "    try:\n",
    "        # Open image\n",
    "        inp = Image.open(input_path)\n",
    "        \n",
    "        # Remove background\n",
    "        output = remove(inp)\n",
    "        \n",
    "        # Save the image in the folder\n",
    "        output.save(output_path)\n",
    "        print(f\"Image processed and saved in: {output_path}\")\n",
    "    except FileNotFoundError:\n",
    "        print(f\"File not found: {input_path}\")\n",
    "    except Exception as e:\n",
    "        print(f\"An error occurred: {e}\")\n",
    "\n",
    "path_base = r'../data/public_hand_dataset/'\n",
    "\n",
    "# Loop through all subfolders and files\n",
    "for original_folder, subfolder, files in os.walk(path_base):\n",
    "    if \"original\" in subfolder:  # Whether the \"original\" subfolder exists\n",
    "        path_original = os.path.join(original_folder, \"original\")\n",
    "        path_hand = os.path.join(path_original, \"hand.jpeg\")\n",
    "        path_middle = os.path.join(original_folder, \"processed\") \n",
    "        path_output = os.path.join(path_middle, \"hand_output.png\")\n",
    "        \n",
    "        if os.path.exists(path_hand):  # Check if the file \"hand.jpeg\" exists\n",
    "            # Create the \"processed\" folder if it does not exist\n",
    "            if not os.path.exists(path_middle):\n",
    "                os.makedirs(path_middle)\n",
    "            \n",
    "            # Process the image\n",
    "            process_image(path_hand, path_output)\n"
   ]
  },
  {
   "cell_type": "code",
   "execution_count": null,
   "id": "90a39807-056f-4520-8e3e-aa390626d7d2",
   "metadata": {},
   "outputs": [],
   "source": []
  }
 ],
 "metadata": {
  "kernelspec": {
   "display_name": "Python 3 (ipykernel)",
   "language": "python",
   "name": "python3"
  },
  "language_info": {
   "codemirror_mode": {
    "name": "ipython",
    "version": 3
   },
   "file_extension": ".py",
   "mimetype": "text/x-python",
   "name": "python",
   "nbconvert_exporter": "python",
   "pygments_lexer": "ipython3",
   "version": "3.12.8"
  }
 },
 "nbformat": 4,
 "nbformat_minor": 5
}
