{
 "cells": [
  {
   "cell_type": "code",
   "execution_count": 2,
   "id": "27c3bdb8-0552-4b7a-9be6-fd1cb0c42852",
   "metadata": {},
   "outputs": [],
   "source": [
    "import os\n",
    "from rembg import remove\n",
    "from PIL import Image"
   ]
  },
  {
   "cell_type": "code",
   "execution_count": 3,
   "id": "d7d5d2e8-0272-4f83-bdce-1276e4bffbcf",
   "metadata": {},
   "outputs": [],
   "source": [
    "def process_image(input_path, output_path):\n",
    "    try:\n",
    "        # Open image\n",
    "        inp = Image.open(input_path)\n",
    "        \n",
    "        # Remove background\n",
    "        output = remove(inp)\n",
    "        \n",
    "        # Save the image in the folder\n",
    "        output.save(output_path)\n",
    "        print(f\"Imagen procesada y guardada en: {output_path}\")\n",
    "    except FileNotFoundError:\n",
    "        print(f\"No se encontró el archivo: {input_path}\")\n",
    "    except Exception as e:\n",
    "        print(f\"Ocurrió un error: {e}\")\n",
    "\n",
    "path_base = r'public_hand_dataset/public_hand_dataset/'\n",
    "\n",
    "# Recorrer todas las subcarpetas y archivos\n",
    "for original_folder, subfolder, files in os.walk(path_base):\n",
    "    if \"original\" in subfolder:  # Si existe la subcarpeta \"original\"\n",
    "        path_original = os.path.join(original_folder, \"original\")\n",
    "        path_hand = os.path.join(path_original, \"hand.jpeg\")\n",
    "        path_middle = os.path.join(original_folder, \"processed\") \n",
    "        path_output = os.path.join(path_middle, \"hand_output.png\")\n",
    "        \n",
    "        if os.path.exists(path_hand):  # Verifica si el archivo \"hand.jpeg\" existe\n",
    "            # Crear la carpeta \"processed\" si no existe\n",
    "            if not os.path.exists(path_middle):\n",
    "                os.makedirs(path_middle)\n",
    "            \n",
    "            # Procesar la imagen\n",
    "            process_image(path_hand, path_output)\n"
   ]
  },
  {
   "cell_type": "code",
   "execution_count": null,
   "id": "90a39807-056f-4520-8e3e-aa390626d7d2",
   "metadata": {},
   "outputs": [],
   "source": []
  }
 ],
 "metadata": {
  "kernelspec": {
   "display_name": "Python 3 (ipykernel)",
   "language": "python",
   "name": "python3"
  },
  "language_info": {
   "codemirror_mode": {
    "name": "ipython",
    "version": 3
   },
   "file_extension": ".py",
   "mimetype": "text/x-python",
   "name": "python",
   "nbconvert_exporter": "python",
   "pygments_lexer": "ipython3",
   "version": "3.12.8"
  }
 },
 "nbformat": 4,
 "nbformat_minor": 5
}
